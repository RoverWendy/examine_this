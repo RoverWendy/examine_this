{
 "cells": [
  {
   "cell_type": "code",
   "execution_count": 1,
   "metadata": {
    "collapsed": true
   },
   "outputs": [],
   "source": [
    "import pandas as pd\n",
    "import string\n",
    "import numpy as np\n",
    "import networkx as nx\n",
    "import pandas as pd\n",
    "from collections import Counter\n",
    "import re\n",
    "%matplotlib inline"
   ]
  },
  {
   "cell_type": "code",
   "execution_count": null,
   "metadata": {
    "collapsed": true
   },
   "outputs": [],
   "source": [
    "find_largest_classes[patent_class_citation, 'Class']"
   ]
  },
  {
   "cell_type": "code",
   "execution_count": null,
   "metadata": {
    "collapsed": true
   },
   "outputs": [],
   "source": []
  },
  {
   "cell_type": "markdown",
   "metadata": {},
   "source": [
    "### Observations\n",
    "\n",
    "#### class.csv:\n",
    "- There are 4,906,289 unique patents\n",
    "- data contains patent number, USPC class and subclass, designation of whether class is primary class\n",
    "- some patent numbers read in as string, some as int, may be duplicates\n",
    "- 19.8 M rows, multiple classes for a given patent\n",
    "- 200,000 patents do not have a primary class\n",
    "- 37,173 patents with multiple primary classes\n",
    "- No missing values\n",
    "\n",
    "#### citation.csv:\n",
    "- There are 4,130,388 unique patents\n",
    "- 53,527,305 total citations ==> roughly 13 citations per patent\n",
    "- data contains patent number, publication date of cited patent, last name of frst author of cited patent, `Cit_Kind`, `Cit_Country`, Number of patent cited (`Citation`), `Category`,  CitSeq'\n",
    "- More than half of `Cit_kind`, `Cit_Country` and `Category` are missing\n",
    "- No patent or citation missing values\n",
    "\n",
    "#### citation.csv:\n",
    "- Both `Kind` and `pattype` contain too many missing values to identify utility patents\n",
    "- 4,821,608 unique patents, 4,823,407 total patents\n",
    "- Stripping out patents that are not formatted as utility patents leaves 4,511,191 patents"
   ]
  },
  {
   "cell_type": "markdown",
   "metadata": {},
   "source": [
    "Note on how utility patents were identified: The format of patent numbers indicate their type.\n",
    "\n",
    "[Types of patents](https://www.uspto.gov/patents-application-process/applying-online/patent-number):\n",
    "- Utility : Patent numbers consist of six or seven digits. Enter the Patent Number excluding commas and spaces and omit leading zeroes. \n",
    "- Reissue : (e.g., Rennnnnn, RE000126) must enter leading zeroes between \"RE\" and number to create 6 digits. \n",
    "- Plant Patents :(e.g., PPnnnnnn, PP000126) must enter leading zeroes between \"PP\" and number to create 6 digits. \n",
    "- Design : (e.g., Dnnnnnnn, D0000126) must enter leading zeroes between \"D\" and number to create 7 digits. \n",
    "- X Patents : (e.g., Xnnnnnnn , X0000001) must enter leading zeroes between \"X\" and number to create 7 digits. \n",
    "- H Documents : (e.g., Hnnnnnnn , H0000001) must enter leading zeroes between \"H\" and number to create 7 digits. \n",
    "- T Documents : (e.g., Tnnnnnnn , T0000001) must enter leading zeroes between \"T\" and number to create 7 digits. "
   ]
  },
  {
   "cell_type": "code",
   "execution_count": null,
   "metadata": {
    "collapsed": false
   },
   "outputs": [],
   "source": [
    "patent['Utility'] = patent['Patent'].apply(is_utility)"
   ]
  },
  {
   "cell_type": "code",
   "execution_count": 2,
   "metadata": {
    "collapsed": false
   },
   "outputs": [],
   "source": [
    "def find_largest_classes(df, col):\n",
    "    '''Return num rows for each '''\n",
    "    sizes = []\n",
    "    for c in set(df[col]):\n",
    "        sizes.append((c, df[df[col] == c].shape[0]))\n",
    "    return sizes"
   ]
  },
  {
   "cell_type": "code",
   "execution_count": 3,
   "metadata": {
    "collapsed": false
   },
   "outputs": [],
   "source": [
    "def strip_patents_multiple_primary_classes(df, col):\n",
    "    '''Return modified data frame without rows that had duplicate\n",
    "    value for given column'''\n",
    "    return df[col].duplicated()"
   ]
  },
  {
   "cell_type": "code",
   "execution_count": 4,
   "metadata": {
    "collapsed": false
   },
   "outputs": [],
   "source": [
    "def percentage_nans(df, rounding=False):\n",
    "    '''Return the percentage of missing values for each column of a pandas df'''\n",
    "    nan_share = df.isnull().sum(axis=0) * 1.0 / df.shape[0]\n",
    "    if rounding:\n",
    "        return nan_share.round(rounding)\n",
    "    else:\n",
    "        return nan_share"
   ]
  },
  {
   "cell_type": "code",
   "execution_count": 5,
   "metadata": {
    "collapsed": false
   },
   "outputs": [],
   "source": [
    "def clean_class(class_str):\n",
    "    '''Convert string USPTO classification number to int if number\n",
    "    class does not begin with letter'''\n",
    "    if class_str[0] not in set(string.ascii_uppercase): \n",
    "        return int(class_str) "
   ]
  },
  {
   "cell_type": "code",
   "execution_count": 6,
   "metadata": {
    "collapsed": false
   },
   "outputs": [],
   "source": [
    "def is_utility(patent_num):\n",
    "    '''Returns 1 if patent_num string is formatted\n",
    "    consistent with reissue, plant, design patent or X, H or T doc type'''\n",
    "    if type(patent_num) != str:\n",
    "        return 1\n",
    "    return re.findall('RE|PP|D|X|H|T', patent_num) == []"
   ]
  },
  {
   "cell_type": "markdown",
   "metadata": {},
   "source": [
    "#### Data prep"
   ]
  },
  {
   "cell_type": "code",
   "execution_count": null,
   "metadata": {
    "collapsed": false
   },
   "outputs": [
    {
     "name": "stderr",
     "output_type": "stream",
     "text": [
      "/Users/zoerichards/anaconda/lib/python2.7/site-packages/IPython/core/interactiveshell.py:2717: DtypeWarning: Columns (0) have mixed types. Specify dtype option on import or set low_memory=False.\n",
      "  interactivity=interactivity, compiler=compiler, result=result)\n"
     ]
    }
   ],
   "source": [
    "patclass = pd.read_csv('class.csv')\n",
    "citation = pd.read_csv('citation.csv')\n",
    "patent = pd.read_csv('patent.csv')\n",
    "\n",
    "\n",
    "#extract columns info from citation data w/ complete data\n",
    "citation_clean = citation[['Patent', 'Citation']]\n",
    "\n",
    "\n",
    "## PROCESS CLASS FILE\n",
    "#standardize class\n",
    "patclass['Class'] = patclass['Class'].apply(clean_class)\n",
    "#kept just 'Primary' class\n",
    "primary_class = patclass[patclass.Prim == 1]\n",
    "#drop patents that had multiple primary classes\n",
    "unique_patent_primary_class = primary_class[primary_class.Patent.duplicated() == False]\n",
    "class_clean = unique_patent_primary_class[['Patent', 'Class', 'SubClass']]\n",
    "class_clean.columns = ['Patent', 'primary_class', 'primary_subclass']\n",
    "\n",
    "\n",
    "## Patent file preparation\n",
    "patent['Utility'] = patent['Patent'].apply(is_utility)\n",
    "patent_utility = patent[patent.Utility == 1]\n",
    "patent_clean = utility_patent[['Patent', 'GDate', 'GYear']]\n",
    "\n",
    "\n",
    "# MERGE THE DFs TOGETHER\n",
    "_ = pd.merge(class_clean, citation_clean, on='Patent')\n",
    "patent_class_citation = pd.merge(_, patent_clean, on='Patent')"
   ]
  },
  {
   "cell_type": "code",
   "execution_count": null,
   "metadata": {
    "collapsed": true
   },
   "outputs": [],
   "source": []
  }
 ],
 "metadata": {
  "anaconda-cloud": {},
  "kernelspec": {
   "display_name": "Python [conda root]",
   "language": "python",
   "name": "conda-root-py"
  },
  "language_info": {
   "codemirror_mode": {
    "name": "ipython",
    "version": 2
   },
   "file_extension": ".py",
   "mimetype": "text/x-python",
   "name": "python",
   "nbconvert_exporter": "python",
   "pygments_lexer": "ipython2",
   "version": "2.7.12"
  }
 },
 "nbformat": 4,
 "nbformat_minor": 1
}

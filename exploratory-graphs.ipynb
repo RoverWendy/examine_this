{
 "cells": [
  {
   "cell_type": "code",
   "execution_count": 1,
   "metadata": {
    "collapsed": false
   },
   "outputs": [],
   "source": [
    "import pyspark as ps\n",
    "\n",
    "spark = ps.sql.SparkSession.builder \\\n",
    "            .master(\"local[4]\") \\\n",
    "            .appName(\"df lecture\") \\\n",
    "            .getOrCreate()"
   ]
  },
  {
   "cell_type": "code",
   "execution_count": 2,
   "metadata": {
    "collapsed": true
   },
   "outputs": [],
   "source": [
    "# read patent CSV\n",
    "df = spark.read.csv('data/patent_class_citation.csv',\n",
    "                         header=True,       # use headers or not\n",
    "#                         quote='\"',         # char for quotes\n",
    "                         sep=\",\",           # char for separation\n",
    "                         inferSchema=True)"
   ]
  },
  {
   "cell_type": "code",
   "execution_count": 3,
   "metadata": {
    "collapsed": false
   },
   "outputs": [
    {
     "name": "stdout",
     "output_type": "stream",
     "text": [
      "root\n",
      " |-- _c0: integer (nullable = true)\n",
      " |-- Patent: integer (nullable = true)\n",
      " |-- primary_class: double (nullable = true)\n",
      " |-- primary_subclass: string (nullable = true)\n",
      " |-- Citation: string (nullable = true)\n",
      " |-- GDate: timestamp (nullable = true)\n",
      " |-- GYear: integer (nullable = true)\n",
      "\n",
      "+---+-------+-------------+----------------+--------+--------------------+-----+\n",
      "|_c0| Patent|primary_class|primary_subclass|Citation|               GDate|GYear|\n",
      "+---+-------+-------------+----------------+--------+--------------------+-----+\n",
      "|  0|3930270|        360.0|          130.24| 3778560|1975-12-30 00:00:...| 1975|\n",
      "|  1|3930270|        360.0|          130.24| 3840895|1975-12-30 00:00:...| 1975|\n",
      "|  2|3930269|        360.0|            96.3| 3448940|1975-12-30 00:00:...| 1975|\n",
      "|  3|3930269|        360.0|            96.3| 3488058|1975-12-30 00:00:...| 1975|\n",
      "|  4|3930269|        360.0|            96.3| 3533633|1975-12-30 00:00:...| 1975|\n",
      "|  5|3930269|        360.0|            96.3| 3610553|1975-12-30 00:00:...| 1975|\n",
      "|  6|3930269|        360.0|            96.3| 3620479|1975-12-30 00:00:...| 1975|\n",
      "|  7|3930269|        360.0|            96.3| 3664672|1975-12-30 00:00:...| 1975|\n",
      "|  8|3930269|        360.0|            96.3| 3667701|1975-12-30 00:00:...| 1975|\n",
      "|  9|3930269|        360.0|            96.3| 3670992|1975-12-30 00:00:...| 1975|\n",
      "| 10|3930269|        360.0|            96.3| 3695549|1975-12-30 00:00:...| 1975|\n",
      "| 11|3930268|        360.0|            96.3| 3448940|1975-12-30 00:00:...| 1975|\n",
      "| 12|3930268|        360.0|            96.3| 3488058|1975-12-30 00:00:...| 1975|\n",
      "| 13|3930268|        360.0|            96.3| 3533633|1975-12-30 00:00:...| 1975|\n",
      "| 14|3930268|        360.0|            96.3| 3610553|1975-12-30 00:00:...| 1975|\n",
      "| 15|3930268|        360.0|            96.3| 3620479|1975-12-30 00:00:...| 1975|\n",
      "| 16|3930268|        360.0|            96.3| 3664672|1975-12-30 00:00:...| 1975|\n",
      "| 17|3930268|        360.0|            96.3| 3667701|1975-12-30 00:00:...| 1975|\n",
      "| 18|3930268|        360.0|            96.3| 3670992|1975-12-30 00:00:...| 1975|\n",
      "| 19|3930268|        360.0|            96.3| 3695549|1975-12-30 00:00:...| 1975|\n",
      "+---+-------+-------------+----------------+--------+--------------------+-----+\n",
      "only showing top 20 rows\n",
      "\n"
     ]
    }
   ],
   "source": [
    "# prints the schema\n",
    "df.printSchema()\n",
    "\n",
    "\n",
    "# show the table in a oh-so-nice format\n",
    "df.show(n=20)"
   ]
  },
  {
   "cell_type": "code",
   "execution_count": 4,
   "metadata": {
    "collapsed": true
   },
   "outputs": [],
   "source": [
    "from pyspark.sql import functions as F\n",
    "from pyspark.sql.functions import udf, col\n"
   ]
  },
  {
   "cell_type": "code",
   "execution_count": 5,
   "metadata": {
    "collapsed": false
   },
   "outputs": [
    {
     "name": "stdout",
     "output_type": "stream",
     "text": [
      "+-------------+---------------+\n",
      "|primary_class|count(Citation)|\n",
      "+-------------+---------------+\n",
      "|        558.0|          18206|\n",
      "|        305.0|           5953|\n",
      "|        299.0|          14751|\n",
      "|        184.0|          10627|\n",
      "|        147.0|             28|\n",
      "|        720.0|          10500|\n",
      "|        169.0|           9428|\n",
      "|        160.0|          30287|\n",
      "|        379.0|         124857|\n",
      "|          8.0|          39609|\n",
      "|         70.0|          52540|\n",
      "|        702.0|          82522|\n",
      "|        168.0|           1364|\n",
      "|        524.0|         158417|\n",
      "|        206.0|         144533|\n",
      "|         69.0|            592|\n",
      "|        365.0|         122859|\n",
      "|          7.0|           4534|\n",
      "|        249.0|          13254|\n",
      "|        401.0|          23325|\n",
      "|        142.0|            357|\n",
      "|        191.0|           3027|\n",
      "|        329.0|           3166|\n",
      "|        112.0|          29745|\n",
      "|        451.0|          79148|\n",
      "|        708.0|          38192|\n",
      "|        521.0|          48740|\n",
      "|        232.0|           5310|\n",
      "|        438.0|         323894|\n",
      "|        124.0|          19027|\n",
      "|        348.0|         133473|\n",
      "|        303.0|          31773|\n",
      "|        410.0|          13122|\n",
      "|        331.0|          20777|\n",
      "|        588.0|          12129|\n",
      "|        201.0|           3580|\n",
      "|        235.0|          80644|\n",
      "|        128.0|         111242|\n",
      "|        353.0|          17020|\n",
      "|        800.0|           9768|\n",
      "|        180.0|          71350|\n",
      "|        108.0|          28159|\n",
      "|        430.0|         211083|\n",
      "|        271.0|          42134|\n",
      "|        439.0|         179348|\n",
      "|        369.0|          83252|\n",
      "|        442.0|          39400|\n",
      "|        355.0|          37040|\n",
      "|        234.0|            249|\n",
      "|        181.0|          24211|\n",
      "|        358.0|          78175|\n",
      "|        449.0|            807|\n",
      "|        536.0|          33600|\n",
      "|        280.0|         169329|\n",
      "|        403.0|          41179|\n",
      "|         49.0|          32969|\n",
      "|        436.0|          63872|\n",
      "|        359.0|         178592|\n",
      "|        301.0|          11463|\n",
      "|        704.0|          43901|\n",
      "|        101.0|          68149|\n",
      "|        705.0|          64565|\n",
      "|        217.0|            566|\n",
      "|        342.0|          61442|\n",
      "|        606.0|         268678|\n",
      "|        116.0|          14876|\n",
      "|        238.0|           4878|\n",
      "|        427.0|         151441|\n",
      "|        182.0|          26380|\n",
      "|         29.0|         200859|\n",
      "|        413.0|           2080|\n",
      "|         75.0|          38833|\n",
      "|        602.0|          35085|\n",
      "|        445.0|          12777|\n",
      "|        508.0|          44362|\n",
      "|        279.0|           8112|\n",
      "|         47.0|          37802|\n",
      "|         42.0|          24410|\n",
      "|        380.0|          26403|\n",
      "|        412.0|           3137|\n",
      "|        434.0|          40741|\n",
      "|        144.0|          18607|\n",
      "|        215.0|          38070|\n",
      "|        514.0|         298608|\n",
      "|        236.0|          14467|\n",
      "|         44.0|          25647|\n",
      "|        494.0|          12173|\n",
      "|        388.0|           6184|\n",
      "|        396.0|          82291|\n",
      "|         62.0|         127436|\n",
      "|         96.0|          37640|\n",
      "|         null|              2|\n",
      "|        378.0|          40540|\n",
      "|        219.0|         155490|\n",
      "|        419.0|          13683|\n",
      "|        405.0|          76211|\n",
      "|        346.0|           7661|\n",
      "|        476.0|           2332|\n",
      "|        258.0|             21|\n",
      "|        324.0|         169417|\n",
      "|        218.0|           8177|\n",
      "|        178.0|           6601|\n",
      "|         86.0|           3240|\n",
      "|        171.0|           1878|\n",
      "|        568.0|          44937|\n",
      "|        440.0|          22975|\n",
      "|        237.0|           5231|\n",
      "|        482.0|          60159|\n",
      "|        139.0|          16425|\n",
      "|        251.0|          47193|\n",
      "|        177.0|          15409|\n",
      "|        426.0|         146439|\n",
      "|        229.0|          47341|\n",
      "|        159.0|           4311|\n",
      "|        373.0|           7624|\n",
      "|        356.0|         108070|\n",
      "|        409.0|          16399|\n",
      "|        518.0|           4655|\n",
      "|        231.0|            119|\n",
      "|        377.0|          12094|\n",
      "|        267.0|          24292|\n",
      "|        294.0|          34077|\n",
      "|        104.0|          17362|\n",
      "|        408.0|          19769|\n",
      "|          1.0|             38|\n",
      "|        312.0|          42690|\n",
      "|        562.0|          22846|\n",
      "|        250.0|         164367|\n",
      "|        266.0|          16497|\n",
      "|        300.0|           1602|\n",
      "|        270.0|          11828|\n",
      "|        210.0|         236214|\n",
      "|        205.0|          62934|\n",
      "|        239.0|          88159|\n",
      "|        114.0|          44834|\n",
      "|        166.0|         134089|\n",
      "|         34.0|          36474|\n",
      "|         37.0|          24571|\n",
      "|        709.0|         109550|\n",
      "|        292.0|          38768|\n",
      "|         36.0|          42564|\n",
      "|        225.0|           7987|\n",
      "|        345.0|         155547|\n",
      "|        700.0|         101615|\n",
      "|        334.0|            651|\n",
      "|        220.0|          86902|\n",
      "|        414.0|         105623|\n",
      "|        460.0|           4932|\n",
      "|        314.0|             41|\n",
      "|        216.0|          27207|\n",
      "|        149.0|          12729|\n",
      "|        293.0|           7105|\n",
      "|        423.0|          98862|\n",
      "|        193.0|           3810|\n",
      "|        337.0|          12810|\n",
      "|        544.0|          24267|\n",
      "|        546.0|          24141|\n",
      "|        464.0|          19787|\n",
      "|        295.0|            468|\n",
      "|        453.0|           4452|\n",
      "|        340.0|         180316|\n",
      "|        204.0|          91267|\n",
      "|          4.0|          50355|\n",
      "|        246.0|           5172|\n",
      "|        137.0|         137833|\n",
      "|        349.0|          54563|\n",
      "|        245.0|            130|\n",
      "|        318.0|          92813|\n",
      "|        424.0|         265913|\n",
      "|        296.0|          73603|\n",
      "|        212.0|           7322|\n",
      "|        712.0|          56007|\n",
      "|        552.0|           5628|\n",
      "|        326.0|          52405|\n",
      "|        330.0|          29822|\n",
      "|        435.0|         175314|\n",
      "|        523.0|          58436|\n",
      "|        122.0|          16338|\n",
      "|        370.0|         183584|\n",
      "|        165.0|          65819|\n",
      "|        585.0|          46879|\n",
      "|        252.0|          90453|\n",
      "|        516.0|          12652|\n",
      "|         23.0|           2502|\n",
      "|        432.0|          20521|\n",
      "|        140.0|           5123|\n",
      "|        368.0|          22908|\n",
      "|        199.0|              8|\n",
      "|         56.0|          41074|\n",
      "|        367.0|          33740|\n",
      "|        527.0|           1742|\n",
      "|        123.0|         224660|\n",
      "|        285.0|          66047|\n",
      "|        248.0|         120531|\n",
      "|        242.0|          87032|\n",
      "|        386.0|          36083|\n",
      "|        530.0|          32074|\n",
      "|        213.0|           3015|\n",
      "|         79.0|             16|\n",
      "|        351.0|          26441|\n",
      "|         83.0|          54897|\n",
      "|        525.0|         131402|\n",
      "|        134.0|          64152|\n",
      "|        118.0|          60009|\n",
      "|        493.0|          28170|\n",
      "|        323.0|          28019|\n",
      "|        714.0|         112277|\n",
      "|         71.0|           6991|\n",
      "|        416.0|          35292|\n",
      "|        402.0|           5732|\n",
      "|        186.0|           2051|\n",
      "|        719.0|          11796|\n",
      "|        361.0|         158252|\n",
      "|        528.0|          92647|\n",
      "|        156.0|         191273|\n",
      "|        173.0|          14874|\n",
      "|        320.0|          25525|\n",
      "|        241.0|          38854|\n",
      "|        310.0|         115928|\n",
      "|        717.0|          26109|\n",
      "|        162.0|          50804|\n",
      "|        132.0|          25337|\n",
      "|        281.0|           6957|\n",
      "|        164.0|          36025|\n",
      "|        404.0|          28364|\n",
      "|        534.0|          13318|\n",
      "|        473.0|          97703|\n",
      "|        400.0|          53687|\n",
      "|        106.0|          77897|\n",
      "|        600.0|         264890|\n",
      "|        298.0|           2890|\n",
      "|        711.0|          95431|\n",
      "|        264.0|         197472|\n",
      "|        332.0|           3218|\n",
      "|         51.0|          16813|\n",
      "|         72.0|          64961|\n",
      "|         14.0|           7036|\n",
      "|        725.0|          31573|\n",
      "|        109.0|           3823|\n",
      "|        492.0|           5384|\n",
      "|        433.0|          57625|\n",
      "|        336.0|          12461|\n",
      "|        111.0|          12034|\n",
      "|        411.0|          33509|\n",
      "|         63.0|           5678|\n",
      "|         48.0|          10435|\n",
      "|        273.0|          51530|\n",
      "|        415.0|          40896|\n",
      "|        157.0|           2042|\n",
      "|         82.0|          13433|\n",
      "|         74.0|          95039|\n",
      "|         60.0|         122568|\n",
      "|         66.0|          14662|\n",
      "|        175.0|          53905|\n",
      "|        297.0|          83324|\n",
      "|        706.0|          17956|\n",
      "|        307.0|          36853|\n",
      "|        703.0|          22741|\n",
      "|        291.0|            221|\n",
      "|        392.0|          20848|\n",
      "|        385.0|         128488|\n",
      "|         68.0|          11850|\n",
      "|        504.0|          29125|\n",
      "|         53.0|          93273|\n",
      "|         19.0|          10532|\n",
      "|        362.0|          91346|\n",
      "|        718.0|          11706|\n",
      "|        341.0|          51014|\n",
      "|         81.0|          32653|\n",
      "|        221.0|          23654|\n",
      "|        202.0|          11159|\n",
      "|         59.0|           3268|\n",
      "|        338.0|          17403|\n",
      "|        352.0|           5881|\n",
      "|        333.0|          38583|\n",
      "|        366.0|          42222|\n",
      "|         28.0|          10696|\n",
      "|        254.0|          20722|\n",
      "|        502.0|          83652|\n",
      "|          2.0|          69877|\n",
      "|        399.0|         105546|\n",
      "|         57.0|          29813|\n",
      "|        289.0|           1214|\n",
      "|         87.0|           2169|\n",
      "|        428.0|         422076|\n",
      "|        526.0|          62936|\n",
      "|        198.0|          71555|\n",
      "|        347.0|         108939|\n",
      "|        200.0|          59413|\n",
      "|        372.0|          56870|\n",
      "|        441.0|          12109|\n",
      "|        257.0|         243877|\n",
      "|        431.0|          35404|\n",
      "|        454.0|          21413|\n",
      "|        503.0|           9294|\n",
      "|        463.0|          36985|\n",
      "|        455.0|         146036|\n",
      "|        290.0|          14064|\n",
      "|        152.0|          23836|\n",
      "|        187.0|          15479|\n",
      "|        376.0|          39891|\n",
      "|        135.0|          17839|\n",
      "|        119.0|          52051|\n",
      "|        475.0|          34719|\n",
      "|        315.0|          67624|\n",
      "|        196.0|           1001|\n",
      "|        564.0|          24206|\n",
      "|        554.0|           9380|\n",
      "|         38.0|           5249|\n",
      "|        420.0|          12923|\n",
      "|        277.0|          46381|\n",
      "|        141.0|          46913|\n",
      "|        138.0|          33342|\n",
      "|         27.0|           2915|\n",
      "|        713.0|          54519|\n",
      "|        261.0|          33935|\n",
      "|        549.0|          27614|\n",
      "|        208.0|          68775|\n",
      "|         73.0|         238825|\n",
      "|         40.0|          43543|\n",
      "|         30.0|          44232|\n",
      "|        607.0|          88193|\n",
      "|        343.0|          46398|\n",
      "|        601.0|          21845|\n",
      "|        125.0|           5846|\n",
      "|        560.0|          26160|\n",
      "|        510.0|          73967|\n",
      "|        211.0|          48468|\n",
      "|        194.0|          13227|\n",
      "|         99.0|          56624|\n",
      "|        260.0|            466|\n",
      "|        335.0|          27038|\n",
      "|        522.0|          20686|\n",
      "|        127.0|           6094|\n",
      "|        188.0|          46770|\n",
      "|        256.0|           9942|\n",
      "|        726.0|          13546|\n",
      "|         95.0|          51715|\n",
      "|        407.0|           9661|\n",
      "|        276.0|             12|\n",
      "|        224.0|          44056|\n",
      "|        185.0|            667|\n",
      "|        131.0|          25747|\n",
      "|        102.0|          39209|\n",
      "|        100.0|          22479|\n",
      "|        501.0|          38814|\n",
      "|         84.0|          45894|\n",
      "|         33.0|          58082|\n",
      "|        283.0|          15814|\n",
      "|        327.0|          95991|\n",
      "|         92.0|          20528|\n",
      "|        374.0|          28666|\n",
      "|        172.0|          28910|\n",
      "|        269.0|          16546|\n",
      "|        425.0|          98221|\n",
      "|        227.0|          26223|\n",
      "|        472.0|           7669|\n",
      "|        477.0|          27610|\n",
      "|        384.0|          35489|\n",
      "|        623.0|         116408|\n",
      "|        716.0|          31142|\n",
      "|        381.0|          41230|\n",
      "|         52.0|         180691|\n",
      "|        228.0|          44536|\n",
      "|        222.0|         117865|\n",
      "|        422.0|         128916|\n",
      "|         24.0|          52111|\n",
      "|         15.0|          76765|\n",
      "|          5.0|          65023|\n",
      "|        462.0|           2982|\n",
      "|        105.0|          17146|\n",
      "|        363.0|          42507|\n",
      "|         89.0|          22844|\n",
      "|        707.0|          90090|\n",
      "|        360.0|         126738|\n",
      "|        192.0|          52037|\n",
      "|        190.0|           7691|\n",
      "|        483.0|           4921|\n",
      "|        117.0|          19682|\n",
      "|        604.0|         332137|\n",
      "|        126.0|          56291|\n",
      "|        163.0|             85|\n",
      "|        715.0|          58490|\n",
      "|        209.0|          47312|\n",
      "|        136.0|          14909|\n",
      "|         55.0|          29486|\n",
      "|        548.0|          28486|\n",
      "|        383.0|          22459|\n",
      "|        226.0|          10910|\n",
      "|        418.0|          21733|\n",
      "|        520.0|              3|\n",
      "|        223.0|           8893|\n",
      "|        850.0|           3878|\n",
      "|        570.0|           7689|\n",
      "|        540.0|          19130|\n",
      "|        701.0|          98866|\n",
      "|         26.0|           4121|\n",
      "|         65.0|          42551|\n",
      "|        470.0|           2324|\n",
      "|        506.0|          15465|\n",
      "|        375.0|         120382|\n",
      "|        244.0|          58916|\n",
      "|        150.0|           3915|\n",
      "+-------------+---------------+\n",
      "only showing top 403 rows\n",
      "\n"
     ]
    }
   ],
   "source": [
    "df_grouped_class = df.groupBy(col(\"primary_class\")).agg(F.count(col(\"Citation\")))\n",
    "df_grouped_class.show(n=403)"
   ]
  },
  {
   "cell_type": "code",
   "execution_count": 6,
   "metadata": {
    "collapsed": false
   },
   "outputs": [
    {
     "data": {
      "text/plain": [
       "[Row(primary_class=428.0, count(Citation)=422076)]"
      ]
     },
     "execution_count": 6,
     "metadata": {},
     "output_type": "execute_result"
    }
   ],
   "source": [
    "#figure out which class has most patents \n",
    "largest_class = df_grouped_class.agg({\"count(Citation)\": \"max\"}).collect()[0]\n",
    "largest_class[\"max(count(Citation))\"]\n",
    "df_grouped_class[df_grouped_class['count(Citation)'] == largest_class[\"max(count(Citation))\"]].collect()"
   ]
  },
  {
   "cell_type": "code",
   "execution_count": 7,
   "metadata": {
    "collapsed": false
   },
   "outputs": [
    {
     "name": "stdout",
     "output_type": "stream",
     "text": [
      "+-------+--------+\n",
      "| Patent|Citation|\n",
      "+-------+--------+\n",
      "|3930270| 3778560|\n",
      "|3930270| 3840895|\n",
      "|3930269| 3448940|\n",
      "|3930269| 3488058|\n",
      "|3930269| 3533633|\n",
      "|3930269| 3610553|\n",
      "|3930269| 3620479|\n",
      "|3930269| 3664672|\n",
      "|3930269| 3667701|\n",
      "|3930269| 3670992|\n",
      "+-------+--------+\n",
      "only showing top 10 rows\n",
      "\n"
     ]
    }
   ],
   "source": [
    "citations = df[['Patent', 'Citation']]\n",
    "citations.show(10)"
   ]
  },
  {
   "cell_type": "code",
   "execution_count": 10,
   "metadata": {
    "collapsed": false
   },
   "outputs": [],
   "source": [
    "citations.write.csv('citations_clean.csv')"
   ]
  },
  {
   "cell_type": "code",
   "execution_count": null,
   "metadata": {
    "collapsed": true
   },
   "outputs": [],
   "source": [
    "citations.repartition(1).write.csv('citations_clean_single.csv')"
   ]
  },
  {
   "cell_type": "code",
   "execution_count": 2,
   "metadata": {
    "collapsed": true
   },
   "outputs": [],
   "source": [
    "import pandas as pd"
   ]
  },
  {
   "cell_type": "code",
   "execution_count": 3,
   "metadata": {
    "collapsed": false
   },
   "outputs": [
    {
     "name": "stderr",
     "output_type": "stream",
     "text": [
      "/Users/zoerichards/anaconda/lib/python2.7/site-packages/IPython/core/interactiveshell.py:2717: DtypeWarning: Columns (1) have mixed types. Specify dtype option on import or set low_memory=False.\n",
      "  interactivity=interactivity, compiler=compiler, result=result)\n"
     ]
    }
   ],
   "source": [
    "citations = pd.read_csv('citations_clean_single.csv/part-00000-d2192292-c6b6-4fc1-a573-e26f33477eba.csv')"
   ]
  },
  {
   "cell_type": "code",
   "execution_count": 16,
   "metadata": {
    "collapsed": false
   },
   "outputs": [],
   "source": [
    "citations.columns = [\"FromNodeId\", \"ToNodeId\"]"
   ]
  },
  {
   "cell_type": "code",
   "execution_count": 17,
   "metadata": {
    "collapsed": false
   },
   "outputs": [
    {
     "data": {
      "text/html": [
       "<div>\n",
       "<table border=\"1\" class=\"dataframe\">\n",
       "  <thead>\n",
       "    <tr style=\"text-align: right;\">\n",
       "      <th></th>\n",
       "      <th>FromNodeId</th>\n",
       "      <th>ToNodeId</th>\n",
       "    </tr>\n",
       "  </thead>\n",
       "  <tbody>\n",
       "    <tr>\n",
       "      <th>0</th>\n",
       "      <td>3930270</td>\n",
       "      <td>3840895</td>\n",
       "    </tr>\n",
       "    <tr>\n",
       "      <th>1</th>\n",
       "      <td>3930269</td>\n",
       "      <td>3448940</td>\n",
       "    </tr>\n",
       "    <tr>\n",
       "      <th>2</th>\n",
       "      <td>3930269</td>\n",
       "      <td>3488058</td>\n",
       "    </tr>\n",
       "    <tr>\n",
       "      <th>3</th>\n",
       "      <td>3930269</td>\n",
       "      <td>3533633</td>\n",
       "    </tr>\n",
       "    <tr>\n",
       "      <th>4</th>\n",
       "      <td>3930269</td>\n",
       "      <td>3610553</td>\n",
       "    </tr>\n",
       "  </tbody>\n",
       "</table>\n",
       "</div>"
      ],
      "text/plain": [
       "   FromNodeId ToNodeId\n",
       "0     3930270  3840895\n",
       "1     3930269  3448940\n",
       "2     3930269  3488058\n",
       "3     3930269  3533633\n",
       "4     3930269  3610553"
      ]
     },
     "execution_count": 17,
     "metadata": {},
     "output_type": "execute_result"
    }
   ],
   "source": [
    "citations.head()"
   ]
  },
  {
   "cell_type": "code",
   "execution_count": 18,
   "metadata": {
    "collapsed": false
   },
   "outputs": [
    {
     "ename": "TypeError",
     "evalue": "head() got an unexpected keyword argument 'sep'",
     "output_type": "error",
     "traceback": [
      "\u001b[0;31m---------------------------------------------------------------------------\u001b[0m",
      "\u001b[0;31mTypeError\u001b[0m                                 Traceback (most recent call last)",
      "\u001b[0;32m<ipython-input-18-5ee138cc690b>\u001b[0m in \u001b[0;36m<module>\u001b[0;34m()\u001b[0m\n\u001b[0;32m----> 1\u001b[0;31m \u001b[0mcitations\u001b[0m\u001b[0;34m.\u001b[0m\u001b[0mhead\u001b[0m\u001b[0;34m(\u001b[0m\u001b[0;34m'~/citations.txt'\u001b[0m\u001b[0;34m,\u001b[0m \u001b[0msep\u001b[0m\u001b[0;34m=\u001b[0m\u001b[0;34m'\\t'\u001b[0m\u001b[0;34m,\u001b[0m \u001b[0mindex\u001b[0m\u001b[0;34m=\u001b[0m\u001b[0mFalse\u001b[0m\u001b[0;34m)\u001b[0m\u001b[0;34m\u001b[0m\u001b[0m\n\u001b[0m",
      "\u001b[0;31mTypeError\u001b[0m: head() got an unexpected keyword argument 'sep'"
     ]
    }
   ],
   "source": [
    "citations.head('~/citations.txt', sep='\\t', index=False)"
   ]
  },
  {
   "cell_type": "code",
   "execution_count": 21,
   "metadata": {
    "collapsed": false
   },
   "outputs": [],
   "source": [
    "citations.to_csv('~/citations.txt', sep='\\t', index=False, header=False)"
   ]
  },
  {
   "cell_type": "code",
   "execution_count": 15,
   "metadata": {
    "collapsed": false
   },
   "outputs": [
    {
     "name": "stdout",
     "output_type": "stream",
     "text": [
      "\tFromNodeId\tToNodeId\r\n",
      "0\t3930270\t3840895\r\n",
      "1\t3930269\t3448940\r\n",
      "2\t3930269\t3488058\r\n",
      "3\t3930269\t3533633\r\n",
      "4\t3930269\t3610553\r\n",
      "5\t3930269\t3620479\r\n",
      "6\t3930269\t3664672\r\n",
      "7\t3930269\t3667701\r\n",
      "8\t3930269\t3670992\r\n"
     ]
    }
   ],
   "source": [
    "!head /Users/zoerichards/citations.txt"
   ]
  },
  {
   "cell_type": "code",
   "execution_count": 22,
   "metadata": {
    "collapsed": false
   },
   "outputs": [
    {
     "name": "stdout",
     "output_type": "stream",
     "text": [
      "3930270\t3840895\r\n",
      "3930269\t3448940\r\n",
      "3930269\t3488058\r\n",
      "3930269\t3533633\r\n",
      "3930269\t3610553\r\n",
      "3930269\t3620479\r\n",
      "3930269\t3664672\r\n",
      "3930269\t3667701\r\n",
      "3930269\t3670992\r\n",
      "3930269\t3695549\r\n"
     ]
    }
   ],
   "source": [
    "!head /Users/zoerichards/citations.txt"
   ]
  },
  {
   "cell_type": "code",
   "execution_count": 23,
   "metadata": {
    "collapsed": false
   },
   "outputs": [
    {
     "data": {
      "text/html": [
       "<div>\n",
       "<table border=\"1\" class=\"dataframe\">\n",
       "  <thead>\n",
       "    <tr style=\"text-align: right;\">\n",
       "      <th></th>\n",
       "      <th>FromNodeId</th>\n",
       "      <th>ToNodeId</th>\n",
       "    </tr>\n",
       "  </thead>\n",
       "  <tbody>\n",
       "    <tr>\n",
       "      <th>0</th>\n",
       "      <td>3930270</td>\n",
       "      <td>3840895</td>\n",
       "    </tr>\n",
       "    <tr>\n",
       "      <th>1</th>\n",
       "      <td>3930269</td>\n",
       "      <td>3448940</td>\n",
       "    </tr>\n",
       "    <tr>\n",
       "      <th>2</th>\n",
       "      <td>3930269</td>\n",
       "      <td>3488058</td>\n",
       "    </tr>\n",
       "    <tr>\n",
       "      <th>3</th>\n",
       "      <td>3930269</td>\n",
       "      <td>3533633</td>\n",
       "    </tr>\n",
       "    <tr>\n",
       "      <th>4</th>\n",
       "      <td>3930269</td>\n",
       "      <td>3610553</td>\n",
       "    </tr>\n",
       "  </tbody>\n",
       "</table>\n",
       "</div>"
      ],
      "text/plain": [
       "   FromNodeId ToNodeId\n",
       "0     3930270  3840895\n",
       "1     3930269  3448940\n",
       "2     3930269  3488058\n",
       "3     3930269  3533633\n",
       "4     3930269  3610553"
      ]
     },
     "execution_count": 23,
     "metadata": {},
     "output_type": "execute_result"
    }
   ],
   "source": [
    "citations.head()"
   ]
  },
  {
   "cell_type": "code",
   "execution_count": 27,
   "metadata": {
    "collapsed": false
   },
   "outputs": [],
   "source": [
    "import re\n",
    "def is_utility(patent_num):\n",
    "    '''Returns 1 if patent_num string is formatted\n",
    "    consistent with reissue, plant, design patent or X, H or T doc type'''\n",
    "    if type(patent_num) != str:\n",
    "        return 1\n",
    "    return re.findall('RE|PP|D|X|H|T', patent_num) == []"
   ]
  },
  {
   "cell_type": "code",
   "execution_count": 33,
   "metadata": {
    "collapsed": true
   },
   "outputs": [],
   "source": [
    "citations['Utility'] = citations['ToNodeId'].apply(is_utility)\n",
    "citations_utility = citations[citations.Utility == 1]"
   ]
  },
  {
   "cell_type": "code",
   "execution_count": 38,
   "metadata": {
    "collapsed": false
   },
   "outputs": [
    {
     "data": {
      "text/html": [
       "<div>\n",
       "<table border=\"1\" class=\"dataframe\">\n",
       "  <thead>\n",
       "    <tr style=\"text-align: right;\">\n",
       "      <th></th>\n",
       "      <th>FromNodeId</th>\n",
       "      <th>ToNodeId</th>\n",
       "      <th>Utility</th>\n",
       "    </tr>\n",
       "  </thead>\n",
       "  <tbody>\n",
       "    <tr>\n",
       "      <th>0</th>\n",
       "      <td>3930270</td>\n",
       "      <td>3840895</td>\n",
       "      <td>1</td>\n",
       "    </tr>\n",
       "    <tr>\n",
       "      <th>1</th>\n",
       "      <td>3930269</td>\n",
       "      <td>3448940</td>\n",
       "      <td>1</td>\n",
       "    </tr>\n",
       "    <tr>\n",
       "      <th>2</th>\n",
       "      <td>3930269</td>\n",
       "      <td>3488058</td>\n",
       "      <td>1</td>\n",
       "    </tr>\n",
       "    <tr>\n",
       "      <th>3</th>\n",
       "      <td>3930269</td>\n",
       "      <td>3533633</td>\n",
       "      <td>1</td>\n",
       "    </tr>\n",
       "    <tr>\n",
       "      <th>4</th>\n",
       "      <td>3930269</td>\n",
       "      <td>3610553</td>\n",
       "      <td>1</td>\n",
       "    </tr>\n",
       "  </tbody>\n",
       "</table>\n",
       "</div>"
      ],
      "text/plain": [
       "   FromNodeId ToNodeId Utility\n",
       "0     3930270  3840895       1\n",
       "1     3930269  3448940       1\n",
       "2     3930269  3488058       1\n",
       "3     3930269  3533633       1\n",
       "4     3930269  3610553       1"
      ]
     },
     "execution_count": 38,
     "metadata": {},
     "output_type": "execute_result"
    }
   ],
   "source": [
    "citations_utility.head()"
   ]
  },
  {
   "cell_type": "code",
   "execution_count": 39,
   "metadata": {
    "collapsed": false
   },
   "outputs": [
    {
     "data": {
      "text/plain": [
       "((21002157, 3), (21001508, 3))"
      ]
     },
     "execution_count": 39,
     "metadata": {},
     "output_type": "execute_result"
    }
   ],
   "source": [
    "citations.shape, citations_utility.shape"
   ]
  },
  {
   "cell_type": "code",
   "execution_count": 40,
   "metadata": {
    "collapsed": true
   },
   "outputs": [],
   "source": [
    "citations_utility = citations_utility[['FromNodeId', 'ToNodeId']]"
   ]
  },
  {
   "cell_type": "code",
   "execution_count": 41,
   "metadata": {
    "collapsed": true
   },
   "outputs": [],
   "source": [
    "citations_utility.to_csv('~/citations.txt', sep='\\t', index=False, header=False)"
   ]
  },
  {
   "cell_type": "code",
   "execution_count": 1,
   "metadata": {
    "collapsed": true
   },
   "outputs": [],
   "source": [
    "import pandas as pd"
   ]
  },
  {
   "cell_type": "code",
   "execution_count": 2,
   "metadata": {
    "collapsed": false
   },
   "outputs": [],
   "source": [
    "citations = pd.read_csv('~/citations.txt', sep='\\t')"
   ]
  },
  {
   "cell_type": "code",
   "execution_count": 6,
   "metadata": {
    "collapsed": false
   },
   "outputs": [],
   "source": [
    "citations = citations[['3930269','3448940']]"
   ]
  },
  {
   "cell_type": "code",
   "execution_count": 9,
   "metadata": {
    "collapsed": false
   },
   "outputs": [
    {
     "name": "stderr",
     "output_type": "stream",
     "text": [
      "/Users/zoerichards/anaconda/lib/python2.7/site-packages/IPython/core/interactiveshell.py:2717: DtypeWarning: Columns (4) have mixed types. Specify dtype option on import or set low_memory=False.\n",
      "  interactivity=interactivity, compiler=compiler, result=result)\n"
     ]
    }
   ],
   "source": [
    "merged = pd.read_csv('data/patent_class_citation.csv')"
   ]
  },
  {
   "cell_type": "code",
   "execution_count": 13,
   "metadata": {
    "collapsed": false
   },
   "outputs": [
    {
     "data": {
      "text/plain": [
       "('1975-03-18', '2010-12-28')"
      ]
     },
     "execution_count": 13,
     "metadata": {},
     "output_type": "execute_result"
    }
   ],
   "source": [
    "merged.GDate.min(), merged.GDate.max()"
   ]
  },
  {
   "cell_type": "code",
   "execution_count": 28,
   "metadata": {
    "collapsed": false
   },
   "outputs": [
    {
     "name": "stdout",
     "output_type": "stream",
     "text": [
      " 1974 21002158\n",
      "1975 20729019\n",
      "1976 20384989\n",
      "1977 20055892\n",
      "1978 19718669\n",
      "1979 19462885\n",
      "1980 19115000\n",
      "1981 18728016\n",
      "1982 18379384\n",
      "1983 18031939\n",
      "1984 17610130\n",
      "1985 17142211\n",
      "1986 16672198\n",
      "1987 16098901\n",
      "1988 15541861\n",
      "1989 14824878\n",
      "1990 14145615\n",
      "1991 13410113\n",
      "1992 12633452\n",
      "1993 11819795\n",
      "1994 10920670\n",
      "1995 9970651\n",
      "1996 8893500\n",
      "1997 7777195\n",
      "1998 7199583\n",
      "1999 6004054\n",
      "2000 5364993\n",
      "2001 4672466\n",
      "2002 3247420\n",
      "2003 1676031\n",
      "2004 45064\n",
      "2005 45064\n",
      "2006 45064\n",
      "2007 45064\n",
      "2008 45064\n",
      "2009 45064\n"
     ]
    }
   ],
   "source": [
    "for x in range(1974,2010):\n",
    "    print x, merged[merged.GYear > x].shape[0]"
   ]
  },
  {
   "cell_type": "code",
   "execution_count": 35,
   "metadata": {
    "collapsed": false
   },
   "outputs": [],
   "source": [
    "patents_2003 = merged[merged.GYear == 2003]"
   ]
  },
  {
   "cell_type": "code",
   "execution_count": 39,
   "metadata": {
    "collapsed": false
   },
   "outputs": [
    {
     "name": "stdout",
     "output_type": "stream",
     "text": [
      "nan 0\n",
      "1.0 38\n",
      "2.0 69877\n",
      "4.0 50355\n",
      "5.0 65023\n",
      "nan 0\n",
      "7.0 4534\n",
      "8.0 39609\n",
      "12.0 3305\n",
      "14.0 7036\n",
      "15.0 76765\n",
      "16.0 27225\n",
      "19.0 10532\n",
      "23.0 2502\n",
      "24.0 52111\n",
      "26.0 4121\n",
      "27.0 2915\n",
      "28.0 10696\n",
      "29.0 200859\n",
      "30.0 44232\n",
      "33.0 58082\n",
      "34.0 36474\n",
      "36.0 42564\n",
      "37.0 24571\n",
      "38.0 5249\n",
      "40.0 43543\n",
      "42.0 24410\n",
      "43.0 53253\n",
      "44.0 25647\n",
      "47.0 37802\n",
      "48.0 10435\n",
      "49.0 32969\n",
      "51.0 16813\n",
      "52.0 180691\n",
      "53.0 93273\n",
      "54.0 2681\n",
      "55.0 29486\n",
      "56.0 41074\n",
      "57.0 29813\n",
      "59.0 3268\n",
      "60.0 122568\n",
      "62.0 127436\n",
      "63.0 5678\n",
      "65.0 42551\n",
      "66.0 14662\n",
      "68.0 11850\n",
      "69.0 592\n",
      "70.0 52540\n",
      "71.0 6991\n",
      "72.0 64961\n",
      "73.0 238825\n",
      "74.0 95039\n",
      "75.0 38833\n",
      "76.0 5099\n",
      "79.0 16\n",
      "81.0 32653\n",
      "82.0 13433\n",
      "83.0 54897\n",
      "84.0 45894\n",
      "86.0 3240\n",
      "87.0 2169\n",
      "89.0 22844\n",
      "91.0 22544\n",
      "92.0 20528\n",
      "95.0 51715\n",
      "96.0 37640\n",
      "99.0 56624\n",
      "100.0 22479\n",
      "101.0 68149\n",
      "102.0 39209\n",
      "104.0 17362\n",
      "105.0 17146\n",
      "106.0 77897\n",
      "108.0 28159\n",
      "109.0 3823\n",
      "110.0 25048\n",
      "111.0 12034\n",
      "112.0 29745\n",
      "114.0 44834\n",
      "116.0 14876\n",
      "117.0 19682\n",
      "118.0 60009\n",
      "119.0 52051\n",
      "122.0 16338\n",
      "123.0 224660\n",
      "124.0 19027\n",
      "125.0 5846\n",
      "126.0 56291\n",
      "127.0 6094\n",
      "128.0 111242\n",
      "131.0 25747\n",
      "132.0 25337\n",
      "134.0 64152\n",
      "135.0 17839\n",
      "136.0 14909\n",
      "137.0 137833\n",
      "138.0 33342\n",
      "139.0 16425\n",
      "140.0 5123\n",
      "141.0 46913\n",
      "142.0 357\n",
      "144.0 18607\n",
      "147.0 28\n",
      "148.0 46363\n",
      "149.0 12729\n",
      "150.0 3915\n",
      "152.0 23836\n",
      "156.0 191273\n",
      "157.0 2042\n",
      "159.0 4311\n",
      "160.0 30287\n",
      "162.0 50804\n",
      "163.0 85\n",
      "164.0 36025\n",
      "165.0 65819\n",
      "166.0 134089\n",
      "168.0 1364\n",
      "169.0 9428\n",
      "171.0 1878\n",
      "172.0 28910\n",
      "173.0 14874\n",
      "174.0 78132\n",
      "175.0 53905\n",
      "177.0 15409\n",
      "178.0 6601\n",
      "180.0 71350\n",
      "181.0 24211\n",
      "182.0 26380\n",
      "184.0 10627\n",
      "185.0 667\n",
      "186.0 2051\n",
      "187.0 15479\n",
      "188.0 46770\n",
      "190.0 7691\n",
      "191.0 3027\n",
      "192.0 52037\n",
      "193.0 3810\n",
      "194.0 13227\n",
      "196.0 1001\n",
      "198.0 71555\n",
      "199.0 8\n",
      "200.0 59413\n",
      "201.0 3580\n",
      "202.0 11159\n",
      "203.0 14608\n",
      "204.0 91267\n",
      "205.0 62934\n",
      "206.0 144533\n",
      "208.0 68775\n",
      "209.0 47312\n",
      "210.0 236214\n",
      "211.0 48468\n",
      "212.0 7322\n",
      "213.0 3015\n",
      "215.0 38070\n",
      "216.0 27207\n",
      "217.0 566\n",
      "218.0 8177\n",
      "219.0 155490\n",
      "220.0 86902\n",
      "221.0 23654\n",
      "222.0 117865\n",
      "223.0 8893\n",
      "224.0 44056\n",
      "225.0 7987\n",
      "226.0 10910\n",
      "227.0 26223\n",
      "228.0 44536\n",
      "229.0 47341\n",
      "231.0 119\n",
      "232.0 5310\n",
      "234.0 249\n",
      "235.0 80644\n",
      "236.0 14467\n",
      "237.0 5231\n",
      "238.0 4878\n",
      "239.0 88159\n",
      "241.0 38854\n",
      "242.0 87032\n",
      "244.0 58916\n",
      "245.0 130\n",
      "246.0 5172\n",
      "248.0 120531\n",
      "249.0 13254\n",
      "250.0 164367\n",
      "251.0 47193\n",
      "252.0 90453\n",
      "254.0 20722\n",
      "256.0 9942\n",
      "257.0 243877\n",
      "258.0 21\n",
      "260.0 466\n",
      "261.0 33935\n",
      "264.0 197472\n",
      "266.0 16497\n",
      "267.0 24292\n",
      "269.0 16546\n",
      "270.0 11828\n",
      "271.0 42134\n",
      "273.0 51530\n",
      "276.0 12\n",
      "277.0 46381\n",
      "278.0 20\n",
      "279.0 8112\n",
      "280.0 169329\n",
      "281.0 6957\n",
      "283.0 15814\n",
      "285.0 66047\n",
      "289.0 1214\n",
      "290.0 14064\n",
      "291.0 221\n",
      "292.0 38768\n",
      "293.0 7105\n",
      "294.0 34077\n",
      "295.0 468\n",
      "296.0 73603\n",
      "297.0 83324\n",
      "298.0 2890\n",
      "299.0 14751\n",
      "300.0 1602\n",
      "301.0 11463\n",
      "303.0 31773\n",
      "305.0 5953\n",
      "307.0 36853\n",
      "310.0 115928\n",
      "312.0 42690\n",
      "313.0 60784\n",
      "314.0 41\n",
      "315.0 67624\n",
      "318.0 92813\n",
      "320.0 25525\n",
      "322.0 8631\n",
      "323.0 28019\n",
      "324.0 169417\n",
      "326.0 52405\n",
      "327.0 95991\n",
      "329.0 3166\n",
      "330.0 29822\n",
      "331.0 20777\n",
      "332.0 3218\n",
      "333.0 38583\n",
      "334.0 651\n",
      "335.0 27038\n",
      "336.0 12461\n",
      "337.0 12810\n",
      "338.0 17403\n",
      "340.0 180316\n",
      "341.0 51014\n",
      "342.0 61442\n",
      "343.0 46398\n",
      "345.0 155547\n",
      "346.0 7661\n",
      "347.0 108939\n",
      "348.0 133473\n",
      "349.0 54563\n",
      "351.0 26441\n",
      "352.0 5881\n",
      "353.0 17020\n",
      "355.0 37040\n",
      "356.0 108070\n",
      "358.0 78175\n",
      "359.0 178592\n",
      "360.0 126738\n",
      "361.0 158252\n",
      "362.0 91346\n",
      "363.0 42507\n",
      "365.0 122859\n",
      "366.0 42222\n",
      "367.0 33740\n",
      "368.0 22908\n",
      "369.0 83252\n",
      "370.0 183584\n",
      "372.0 56870\n",
      "373.0 7624\n",
      "374.0 28666\n",
      "375.0 120382\n",
      "376.0 39891\n",
      "377.0 12094\n",
      "378.0 40540\n",
      "379.0 124857\n",
      "380.0 26403\n",
      "381.0 41230\n",
      "382.0 135275\n",
      "383.0 22459\n",
      "384.0 35489\n",
      "385.0 128488\n",
      "386.0 36083\n",
      "388.0 6184\n",
      "392.0 20848\n",
      "396.0 82291\n",
      "398.0 30647\n",
      "399.0 105546\n",
      "400.0 53687\n",
      "401.0 23325\n",
      "402.0 5732\n",
      "403.0 41179\n",
      "404.0 28364\n",
      "405.0 76211\n",
      "406.0 10660\n",
      "407.0 9661\n",
      "408.0 19769\n",
      "409.0 16399\n",
      "410.0 13122\n",
      "411.0 33509\n",
      "412.0 3137\n",
      "413.0 2080\n",
      "414.0 105623\n",
      "415.0 40896\n",
      "416.0 35292\n",
      "417.0 83619\n",
      "418.0 21733\n",
      "419.0 13683\n",
      "420.0 12923\n",
      "422.0 128916\n",
      "423.0 98862\n",
      "424.0 265913\n",
      "425.0 98221\n",
      "426.0 146439\n",
      "427.0 151441\n",
      "428.0 422076\n",
      "429.0 74735\n",
      "430.0 211083\n",
      "431.0 35404\n",
      "432.0 20521\n",
      "433.0 57625\n",
      "434.0 40741\n",
      "435.0 175314\n",
      "436.0 63872\n",
      "438.0 323894\n",
      "439.0 179348\n",
      "440.0 22975\n",
      "441.0 12109\n",
      "442.0 39400\n",
      "445.0 12777\n",
      "446.0 44034\n",
      "449.0 807\n",
      "450.0 3434\n",
      "451.0 79148\n",
      "452.0 16388\n",
      "453.0 4452\n",
      "454.0 21413\n",
      "455.0 146036\n",
      "460.0 4932\n",
      "462.0 2982\n",
      "463.0 36985\n",
      "464.0 19787\n",
      "470.0 2324\n",
      "472.0 7669\n",
      "473.0 97703\n",
      "474.0 24945\n",
      "475.0 34719\n",
      "476.0 2332\n",
      "477.0 27610\n",
      "482.0 60159\n",
      "483.0 4921\n",
      "492.0 5384\n",
      "493.0 28170\n",
      "494.0 12173\n",
      "501.0 38814\n",
      "502.0 83652\n",
      "503.0 9294\n",
      "504.0 29125\n",
      "505.0 8768\n",
      "506.0 15465\n",
      "507.0 18344\n",
      "508.0 44362\n",
      "510.0 73967\n",
      "512.0 3217\n",
      "514.0 298608\n",
      "516.0 12652\n",
      "518.0 4655\n",
      "520.0 3\n",
      "521.0 48740\n",
      "522.0 20686\n",
      "523.0 58436\n",
      "524.0 158417\n",
      "525.0 131402\n",
      "526.0 62936\n",
      "527.0 1742\n",
      "528.0 92647\n",
      "530.0 32074\n",
      "534.0 13318\n",
      "536.0 33600\n",
      "540.0 19130\n",
      "544.0 24267\n",
      "546.0 24141\n",
      "548.0 28486\n",
      "549.0 27614\n",
      "552.0 5628\n",
      "554.0 9380\n",
      "556.0 23221\n",
      "558.0 18206\n",
      "560.0 26160\n",
      "562.0 22846\n",
      "564.0 24206\n",
      "568.0 44937\n",
      "570.0 7689\n",
      "585.0 46879\n",
      "588.0 12129\n",
      "600.0 264890\n",
      "601.0 21845\n",
      "602.0 35085\n",
      "604.0 332137\n",
      "606.0 268678\n",
      "607.0 88193\n",
      "623.0 116408\n",
      "700.0 101615\n",
      "701.0 98866\n",
      "702.0 82522\n",
      "703.0 22741\n",
      "704.0 43901\n",
      "705.0 64565\n",
      "706.0 17956\n",
      "707.0 90090\n",
      "708.0 38192\n",
      "709.0 109550\n",
      "710.0 104179\n",
      "711.0 95431\n",
      "712.0 56007\n",
      "713.0 54519\n",
      "714.0 112277\n",
      "715.0 58490\n",
      "716.0 31142\n",
      "717.0 26109\n",
      "718.0 11706\n",
      "719.0 11796\n",
      "720.0 10500\n",
      "725.0 31573\n",
      "726.0 13546\n",
      "800.0 9768\n",
      "850.0 3878\n"
     ]
    }
   ],
   "source": [
    "for c in set(merged.primary_class):\n",
    "    print c, merged[merged.primary_class == c].shape[0]"
   ]
  },
  {
   "cell_type": "code",
   "execution_count": 40,
   "metadata": {
    "collapsed": false
   },
   "outputs": [],
   "source": [
    "cls_715 = merged[merged.primary_class == 715.0]"
   ]
  },
  {
   "cell_type": "code",
   "execution_count": 42,
   "metadata": {
    "collapsed": false
   },
   "outputs": [],
   "source": [
    "cls_715 = cls_715[['Patent', 'primary_subclass', 'Citation', 'GDate']]"
   ]
  },
  {
   "cell_type": "code",
   "execution_count": null,
   "metadata": {
    "collapsed": true
   },
   "outputs": [],
   "source": [
    "cls_715.to_"
   ]
  },
  {
   "cell_type": "code",
   "execution_count": 44,
   "metadata": {
    "collapsed": false
   },
   "outputs": [
    {
     "data": {
      "text/plain": [
       "226"
      ]
     },
     "execution_count": 44,
     "metadata": {},
     "output_type": "execute_result"
    }
   ],
   "source": [
    "len(cls_715.primary_subclass.unique())"
   ]
  },
  {
   "cell_type": "code",
   "execution_count": 8,
   "metadata": {
    "collapsed": true
   },
   "outputs": [],
   "source": [
    "citations.columns = [['Patent', 'Citation']]"
   ]
  },
  {
   "cell_type": "code",
   "execution_count": 22,
   "metadata": {
    "collapsed": false
   },
   "outputs": [
    {
     "data": {
      "text/plain": [
       "'!\"#$%&\\'()*+,-./:;<=>?@[\\\\]^_`{|}~'"
      ]
     },
     "execution_count": 22,
     "metadata": {},
     "output_type": "execute_result"
    }
   ],
   "source": [
    "import string\n",
    "string.punctuation"
   ]
  },
  {
   "cell_type": "code",
   "execution_count": 23,
   "metadata": {
    "collapsed": false
   },
   "outputs": [
    {
     "data": {
      "text/plain": [
       "['-']"
      ]
     },
     "execution_count": 23,
     "metadata": {},
     "output_type": "execute_result"
    }
   ],
   "source": [
    "re.findall('\\-', '53-068124')"
   ]
  },
  {
   "cell_type": "code",
   "execution_count": 31,
   "metadata": {
    "collapsed": true
   },
   "outputs": [],
   "source": [
    "import re\n",
    "def int_type(patent_num):\n",
    "    '''Returns 1 if patent_num string is formatted\n",
    "    as a non-int'''\n",
    "    if type(patent_num) != str:\n",
    "        return 1\n",
    "    else:\n",
    "        return 0"
   ]
  },
  {
   "cell_type": "code",
   "execution_count": 4,
   "metadata": {
    "collapsed": false
   },
   "outputs": [
    {
     "ename": "KeyError",
     "evalue": "'Int_type'",
     "output_type": "error",
     "traceback": [
      "\u001b[0;31m---------------------------------------------------------------------------\u001b[0m",
      "\u001b[0;31mKeyError\u001b[0m                                  Traceback (most recent call last)",
      "\u001b[0;32m<ipython-input-4-2637187e05ae>\u001b[0m in \u001b[0;36m<module>\u001b[0;34m()\u001b[0m\n\u001b[0;32m----> 1\u001b[0;31m \u001b[0mcitations_clean\u001b[0m \u001b[0;34m=\u001b[0m \u001b[0mcitations\u001b[0m\u001b[0;34m[\u001b[0m\u001b[0mcitations\u001b[0m\u001b[0;34m[\u001b[0m\u001b[0;34m'Int_type'\u001b[0m\u001b[0;34m]\u001b[0m \u001b[0;34m==\u001b[0m \u001b[0;36m1\u001b[0m\u001b[0;34m]\u001b[0m\u001b[0;34m\u001b[0m\u001b[0m\n\u001b[0m",
      "\u001b[0;32m/Users/zoerichards/anaconda/lib/python2.7/site-packages/pandas/core/frame.pyc\u001b[0m in \u001b[0;36m__getitem__\u001b[0;34m(self, key)\u001b[0m\n\u001b[1;32m   1995\u001b[0m             \u001b[0;32mreturn\u001b[0m \u001b[0mself\u001b[0m\u001b[0;34m.\u001b[0m\u001b[0m_getitem_multilevel\u001b[0m\u001b[0;34m(\u001b[0m\u001b[0mkey\u001b[0m\u001b[0;34m)\u001b[0m\u001b[0;34m\u001b[0m\u001b[0m\n\u001b[1;32m   1996\u001b[0m         \u001b[0;32melse\u001b[0m\u001b[0;34m:\u001b[0m\u001b[0;34m\u001b[0m\u001b[0m\n\u001b[0;32m-> 1997\u001b[0;31m             \u001b[0;32mreturn\u001b[0m \u001b[0mself\u001b[0m\u001b[0;34m.\u001b[0m\u001b[0m_getitem_column\u001b[0m\u001b[0;34m(\u001b[0m\u001b[0mkey\u001b[0m\u001b[0;34m)\u001b[0m\u001b[0;34m\u001b[0m\u001b[0m\n\u001b[0m\u001b[1;32m   1998\u001b[0m \u001b[0;34m\u001b[0m\u001b[0m\n\u001b[1;32m   1999\u001b[0m     \u001b[0;32mdef\u001b[0m \u001b[0m_getitem_column\u001b[0m\u001b[0;34m(\u001b[0m\u001b[0mself\u001b[0m\u001b[0;34m,\u001b[0m \u001b[0mkey\u001b[0m\u001b[0;34m)\u001b[0m\u001b[0;34m:\u001b[0m\u001b[0;34m\u001b[0m\u001b[0m\n",
      "\u001b[0;32m/Users/zoerichards/anaconda/lib/python2.7/site-packages/pandas/core/frame.pyc\u001b[0m in \u001b[0;36m_getitem_column\u001b[0;34m(self, key)\u001b[0m\n\u001b[1;32m   2002\u001b[0m         \u001b[0;31m# get column\u001b[0m\u001b[0;34m\u001b[0m\u001b[0;34m\u001b[0m\u001b[0m\n\u001b[1;32m   2003\u001b[0m         \u001b[0;32mif\u001b[0m \u001b[0mself\u001b[0m\u001b[0;34m.\u001b[0m\u001b[0mcolumns\u001b[0m\u001b[0;34m.\u001b[0m\u001b[0mis_unique\u001b[0m\u001b[0;34m:\u001b[0m\u001b[0;34m\u001b[0m\u001b[0m\n\u001b[0;32m-> 2004\u001b[0;31m             \u001b[0;32mreturn\u001b[0m \u001b[0mself\u001b[0m\u001b[0;34m.\u001b[0m\u001b[0m_get_item_cache\u001b[0m\u001b[0;34m(\u001b[0m\u001b[0mkey\u001b[0m\u001b[0;34m)\u001b[0m\u001b[0;34m\u001b[0m\u001b[0m\n\u001b[0m\u001b[1;32m   2005\u001b[0m \u001b[0;34m\u001b[0m\u001b[0m\n\u001b[1;32m   2006\u001b[0m         \u001b[0;31m# duplicate columns & possible reduce dimensionality\u001b[0m\u001b[0;34m\u001b[0m\u001b[0;34m\u001b[0m\u001b[0m\n",
      "\u001b[0;32m/Users/zoerichards/anaconda/lib/python2.7/site-packages/pandas/core/generic.pyc\u001b[0m in \u001b[0;36m_get_item_cache\u001b[0;34m(self, item)\u001b[0m\n\u001b[1;32m   1348\u001b[0m         \u001b[0mres\u001b[0m \u001b[0;34m=\u001b[0m \u001b[0mcache\u001b[0m\u001b[0;34m.\u001b[0m\u001b[0mget\u001b[0m\u001b[0;34m(\u001b[0m\u001b[0mitem\u001b[0m\u001b[0;34m)\u001b[0m\u001b[0;34m\u001b[0m\u001b[0m\n\u001b[1;32m   1349\u001b[0m         \u001b[0;32mif\u001b[0m \u001b[0mres\u001b[0m \u001b[0;32mis\u001b[0m \u001b[0mNone\u001b[0m\u001b[0;34m:\u001b[0m\u001b[0;34m\u001b[0m\u001b[0m\n\u001b[0;32m-> 1350\u001b[0;31m             \u001b[0mvalues\u001b[0m \u001b[0;34m=\u001b[0m \u001b[0mself\u001b[0m\u001b[0;34m.\u001b[0m\u001b[0m_data\u001b[0m\u001b[0;34m.\u001b[0m\u001b[0mget\u001b[0m\u001b[0;34m(\u001b[0m\u001b[0mitem\u001b[0m\u001b[0;34m)\u001b[0m\u001b[0;34m\u001b[0m\u001b[0m\n\u001b[0m\u001b[1;32m   1351\u001b[0m             \u001b[0mres\u001b[0m \u001b[0;34m=\u001b[0m \u001b[0mself\u001b[0m\u001b[0;34m.\u001b[0m\u001b[0m_box_item_values\u001b[0m\u001b[0;34m(\u001b[0m\u001b[0mitem\u001b[0m\u001b[0;34m,\u001b[0m \u001b[0mvalues\u001b[0m\u001b[0;34m)\u001b[0m\u001b[0;34m\u001b[0m\u001b[0m\n\u001b[1;32m   1352\u001b[0m             \u001b[0mcache\u001b[0m\u001b[0;34m[\u001b[0m\u001b[0mitem\u001b[0m\u001b[0;34m]\u001b[0m \u001b[0;34m=\u001b[0m \u001b[0mres\u001b[0m\u001b[0;34m\u001b[0m\u001b[0m\n",
      "\u001b[0;32m/Users/zoerichards/anaconda/lib/python2.7/site-packages/pandas/core/internals.pyc\u001b[0m in \u001b[0;36mget\u001b[0;34m(self, item, fastpath)\u001b[0m\n\u001b[1;32m   3288\u001b[0m \u001b[0;34m\u001b[0m\u001b[0m\n\u001b[1;32m   3289\u001b[0m             \u001b[0;32mif\u001b[0m \u001b[0;32mnot\u001b[0m \u001b[0misnull\u001b[0m\u001b[0;34m(\u001b[0m\u001b[0mitem\u001b[0m\u001b[0;34m)\u001b[0m\u001b[0;34m:\u001b[0m\u001b[0;34m\u001b[0m\u001b[0m\n\u001b[0;32m-> 3290\u001b[0;31m                 \u001b[0mloc\u001b[0m \u001b[0;34m=\u001b[0m \u001b[0mself\u001b[0m\u001b[0;34m.\u001b[0m\u001b[0mitems\u001b[0m\u001b[0;34m.\u001b[0m\u001b[0mget_loc\u001b[0m\u001b[0;34m(\u001b[0m\u001b[0mitem\u001b[0m\u001b[0;34m)\u001b[0m\u001b[0;34m\u001b[0m\u001b[0m\n\u001b[0m\u001b[1;32m   3291\u001b[0m             \u001b[0;32melse\u001b[0m\u001b[0;34m:\u001b[0m\u001b[0;34m\u001b[0m\u001b[0m\n\u001b[1;32m   3292\u001b[0m                 \u001b[0mindexer\u001b[0m \u001b[0;34m=\u001b[0m \u001b[0mnp\u001b[0m\u001b[0;34m.\u001b[0m\u001b[0marange\u001b[0m\u001b[0;34m(\u001b[0m\u001b[0mlen\u001b[0m\u001b[0;34m(\u001b[0m\u001b[0mself\u001b[0m\u001b[0;34m.\u001b[0m\u001b[0mitems\u001b[0m\u001b[0;34m)\u001b[0m\u001b[0;34m)\u001b[0m\u001b[0;34m[\u001b[0m\u001b[0misnull\u001b[0m\u001b[0;34m(\u001b[0m\u001b[0mself\u001b[0m\u001b[0;34m.\u001b[0m\u001b[0mitems\u001b[0m\u001b[0;34m)\u001b[0m\u001b[0;34m]\u001b[0m\u001b[0;34m\u001b[0m\u001b[0m\n",
      "\u001b[0;32m/Users/zoerichards/anaconda/lib/python2.7/site-packages/pandas/indexes/base.pyc\u001b[0m in \u001b[0;36mget_loc\u001b[0;34m(self, key, method, tolerance)\u001b[0m\n\u001b[1;32m   1945\u001b[0m                 \u001b[0;32mreturn\u001b[0m \u001b[0mself\u001b[0m\u001b[0;34m.\u001b[0m\u001b[0m_engine\u001b[0m\u001b[0;34m.\u001b[0m\u001b[0mget_loc\u001b[0m\u001b[0;34m(\u001b[0m\u001b[0mkey\u001b[0m\u001b[0;34m)\u001b[0m\u001b[0;34m\u001b[0m\u001b[0m\n\u001b[1;32m   1946\u001b[0m             \u001b[0;32mexcept\u001b[0m \u001b[0mKeyError\u001b[0m\u001b[0;34m:\u001b[0m\u001b[0;34m\u001b[0m\u001b[0m\n\u001b[0;32m-> 1947\u001b[0;31m                 \u001b[0;32mreturn\u001b[0m \u001b[0mself\u001b[0m\u001b[0;34m.\u001b[0m\u001b[0m_engine\u001b[0m\u001b[0;34m.\u001b[0m\u001b[0mget_loc\u001b[0m\u001b[0;34m(\u001b[0m\u001b[0mself\u001b[0m\u001b[0;34m.\u001b[0m\u001b[0m_maybe_cast_indexer\u001b[0m\u001b[0;34m(\u001b[0m\u001b[0mkey\u001b[0m\u001b[0;34m)\u001b[0m\u001b[0;34m)\u001b[0m\u001b[0;34m\u001b[0m\u001b[0m\n\u001b[0m\u001b[1;32m   1948\u001b[0m \u001b[0;34m\u001b[0m\u001b[0m\n\u001b[1;32m   1949\u001b[0m         \u001b[0mindexer\u001b[0m \u001b[0;34m=\u001b[0m \u001b[0mself\u001b[0m\u001b[0;34m.\u001b[0m\u001b[0mget_indexer\u001b[0m\u001b[0;34m(\u001b[0m\u001b[0;34m[\u001b[0m\u001b[0mkey\u001b[0m\u001b[0;34m]\u001b[0m\u001b[0;34m,\u001b[0m \u001b[0mmethod\u001b[0m\u001b[0;34m=\u001b[0m\u001b[0mmethod\u001b[0m\u001b[0;34m,\u001b[0m \u001b[0mtolerance\u001b[0m\u001b[0;34m=\u001b[0m\u001b[0mtolerance\u001b[0m\u001b[0;34m)\u001b[0m\u001b[0;34m\u001b[0m\u001b[0m\n",
      "\u001b[0;32mpandas/index.pyx\u001b[0m in \u001b[0;36mpandas.index.IndexEngine.get_loc (pandas/index.c:4154)\u001b[0;34m()\u001b[0m\n",
      "\u001b[0;32mpandas/index.pyx\u001b[0m in \u001b[0;36mpandas.index.IndexEngine.get_loc (pandas/index.c:4018)\u001b[0;34m()\u001b[0m\n",
      "\u001b[0;32mpandas/hashtable.pyx\u001b[0m in \u001b[0;36mpandas.hashtable.PyObjectHashTable.get_item (pandas/hashtable.c:12368)\u001b[0;34m()\u001b[0m\n",
      "\u001b[0;32mpandas/hashtable.pyx\u001b[0m in \u001b[0;36mpandas.hashtable.PyObjectHashTable.get_item (pandas/hashtable.c:12322)\u001b[0;34m()\u001b[0m\n",
      "\u001b[0;31mKeyError\u001b[0m: 'Int_type'"
     ]
    }
   ],
   "source": [
    "citations_clean = citations[citations['Int_type'] == 1]"
   ]
  },
  {
   "cell_type": "code",
   "execution_count": 33,
   "metadata": {
    "collapsed": false
   },
   "outputs": [
    {
     "data": {
      "text/html": [
       "<div>\n",
       "<table border=\"1\" class=\"dataframe\">\n",
       "  <thead>\n",
       "    <tr style=\"text-align: right;\">\n",
       "      <th></th>\n",
       "      <th>Patent</th>\n",
       "      <th>Citation</th>\n",
       "      <th>Hyphen</th>\n",
       "      <th>Int_type</th>\n",
       "    </tr>\n",
       "  </thead>\n",
       "  <tbody>\n",
       "    <tr>\n",
       "      <th>0</th>\n",
       "      <td>3930269</td>\n",
       "      <td>3448940</td>\n",
       "      <td>1</td>\n",
       "      <td>1</td>\n",
       "    </tr>\n",
       "    <tr>\n",
       "      <th>1</th>\n",
       "      <td>3930269</td>\n",
       "      <td>3488058</td>\n",
       "      <td>1</td>\n",
       "      <td>1</td>\n",
       "    </tr>\n",
       "    <tr>\n",
       "      <th>2</th>\n",
       "      <td>3930269</td>\n",
       "      <td>3533633</td>\n",
       "      <td>1</td>\n",
       "      <td>1</td>\n",
       "    </tr>\n",
       "    <tr>\n",
       "      <th>3</th>\n",
       "      <td>3930269</td>\n",
       "      <td>3610553</td>\n",
       "      <td>1</td>\n",
       "      <td>1</td>\n",
       "    </tr>\n",
       "    <tr>\n",
       "      <th>4</th>\n",
       "      <td>3930269</td>\n",
       "      <td>3620479</td>\n",
       "      <td>1</td>\n",
       "      <td>1</td>\n",
       "    </tr>\n",
       "  </tbody>\n",
       "</table>\n",
       "</div>"
      ],
      "text/plain": [
       "    Patent Citation Hyphen  Int_type\n",
       "0  3930269  3448940      1         1\n",
       "1  3930269  3488058      1         1\n",
       "2  3930269  3533633      1         1\n",
       "3  3930269  3610553      1         1\n",
       "4  3930269  3620479      1         1"
      ]
     },
     "execution_count": 33,
     "metadata": {},
     "output_type": "execute_result"
    }
   ],
   "source": [
    "citations_clean.head()"
   ]
  },
  {
   "cell_type": "code",
   "execution_count": 34,
   "metadata": {
    "collapsed": false
   },
   "outputs": [
    {
     "data": {
      "text/plain": [
       "((21001507, 4), (20709376, 4))"
      ]
     },
     "execution_count": 34,
     "metadata": {},
     "output_type": "execute_result"
    }
   ],
   "source": [
    "citations.txt "
   ]
  },
  {
   "cell_type": "code",
   "execution_count": null,
   "metadata": {
    "collapsed": true
   },
   "outputs": [],
   "source": [
    "citations_utility.to_csv('~/citations.txt', sep='\\t', index=False, header=False)"
   ]
  },
  {
   "cell_type": "markdown",
   "metadata": {},
   "source": [
    "**TO DO**\n",
    "- Get cluster coefficient for different points in time, plot\n",
    "- Do visualization for one class\n",
    "- Get visualization of entire patent space for patents that have pagerank some minimum outdegree"
   ]
  },
  {
   "cell_type": "code",
   "execution_count": 1,
   "metadata": {
    "collapsed": true
   },
   "outputs": [],
   "source": [
    "import pandas as pd"
   ]
  },
  {
   "cell_type": "code",
   "execution_count": 2,
   "metadata": {
    "collapsed": true
   },
   "outputs": [],
   "source": [
    "cls_715 = pd.read_csv('data/cls_715.csv')"
   ]
  },
  {
   "cell_type": "code",
   "execution_count": 5,
   "metadata": {
    "collapsed": false
   },
   "outputs": [],
   "source": [
    "cls_715 = cls_715[['Patent','Citation']]"
   ]
  },
  {
   "cell_type": "code",
   "execution_count": 7,
   "metadata": {
    "collapsed": false
   },
   "outputs": [],
   "source": [
    "cls_715.to_csv('data/cls_715.csv')"
   ]
  }
 ],
 "metadata": {
  "anaconda-cloud": {},
  "kernelspec": {
   "display_name": "Python [conda root]",
   "language": "python",
   "name": "conda-root-py"
  },
  "language_info": {
   "codemirror_mode": {
    "name": "ipython",
    "version": 2
   },
   "file_extension": ".py",
   "mimetype": "text/x-python",
   "name": "python",
   "nbconvert_exporter": "python",
   "pygments_lexer": "ipython2",
   "version": "2.7.12"
  }
 },
 "nbformat": 4,
 "nbformat_minor": 1
}
